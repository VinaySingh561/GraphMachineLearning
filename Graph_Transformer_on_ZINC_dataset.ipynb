{
  "nbformat": 4,
  "nbformat_minor": 0,
  "metadata": {
    "colab": {
      "provenance": [],
      "authorship_tag": "ABX9TyPbphCfATlk8blqBY/qLfRD",
      "include_colab_link": true
    },
    "kernelspec": {
      "name": "python3",
      "display_name": "Python 3"
    },
    "language_info": {
      "name": "python"
    }
  },
  "cells": [
    {
      "cell_type": "markdown",
      "metadata": {
        "id": "view-in-github",
        "colab_type": "text"
      },
      "source": [
        "<a href=\"https://colab.research.google.com/github/VinaySingh561/GraphMachineLearning/blob/main/Graph_Transformer_on_ZINC_dataset.ipynb\" target=\"_parent\"><img src=\"https://colab.research.google.com/assets/colab-badge.svg\" alt=\"Open In Colab\"/></a>"
      ]
    },
    {
      "cell_type": "code",
      "source": [
        "!pip install torch_geometric"
      ],
      "metadata": {
        "colab": {
          "base_uri": "https://localhost:8080/"
        },
        "id": "Etogp1nqjUqI",
        "outputId": "d4c0d06e-9a3a-41f8-ab68-203eedb84711"
      },
      "execution_count": 2,
      "outputs": [
        {
          "output_type": "stream",
          "name": "stdout",
          "text": [
            "Collecting torch_geometric\n",
            "  Downloading torch_geometric-2.6.1-py3-none-any.whl.metadata (63 kB)\n",
            "\u001b[?25l     \u001b[90m━━━━━━━━━━━━━━━━━━━━━━━━━━━━━━━━━━━━━━━━\u001b[0m \u001b[32m0.0/63.1 kB\u001b[0m \u001b[31m?\u001b[0m eta \u001b[36m-:--:--\u001b[0m\r\u001b[2K     \u001b[90m━━━━━━━━━━━━━━━━━━━━━━━━━━━━━━━━━━━━━━━━\u001b[0m \u001b[32m63.1/63.1 kB\u001b[0m \u001b[31m1.7 MB/s\u001b[0m eta \u001b[36m0:00:00\u001b[0m\n",
            "\u001b[?25hRequirement already satisfied: aiohttp in /usr/local/lib/python3.11/dist-packages (from torch_geometric) (3.11.15)\n",
            "Requirement already satisfied: fsspec in /usr/local/lib/python3.11/dist-packages (from torch_geometric) (2025.3.2)\n",
            "Requirement already satisfied: jinja2 in /usr/local/lib/python3.11/dist-packages (from torch_geometric) (3.1.6)\n",
            "Requirement already satisfied: numpy in /usr/local/lib/python3.11/dist-packages (from torch_geometric) (2.0.2)\n",
            "Requirement already satisfied: psutil>=5.8.0 in /usr/local/lib/python3.11/dist-packages (from torch_geometric) (5.9.5)\n",
            "Requirement already satisfied: pyparsing in /usr/local/lib/python3.11/dist-packages (from torch_geometric) (3.2.3)\n",
            "Requirement already satisfied: requests in /usr/local/lib/python3.11/dist-packages (from torch_geometric) (2.32.3)\n",
            "Requirement already satisfied: tqdm in /usr/local/lib/python3.11/dist-packages (from torch_geometric) (4.67.1)\n",
            "Requirement already satisfied: aiohappyeyeballs>=2.3.0 in /usr/local/lib/python3.11/dist-packages (from aiohttp->torch_geometric) (2.6.1)\n",
            "Requirement already satisfied: aiosignal>=1.1.2 in /usr/local/lib/python3.11/dist-packages (from aiohttp->torch_geometric) (1.3.2)\n",
            "Requirement already satisfied: attrs>=17.3.0 in /usr/local/lib/python3.11/dist-packages (from aiohttp->torch_geometric) (25.3.0)\n",
            "Requirement already satisfied: frozenlist>=1.1.1 in /usr/local/lib/python3.11/dist-packages (from aiohttp->torch_geometric) (1.6.0)\n",
            "Requirement already satisfied: multidict<7.0,>=4.5 in /usr/local/lib/python3.11/dist-packages (from aiohttp->torch_geometric) (6.4.3)\n",
            "Requirement already satisfied: propcache>=0.2.0 in /usr/local/lib/python3.11/dist-packages (from aiohttp->torch_geometric) (0.3.1)\n",
            "Requirement already satisfied: yarl<2.0,>=1.17.0 in /usr/local/lib/python3.11/dist-packages (from aiohttp->torch_geometric) (1.20.0)\n",
            "Requirement already satisfied: MarkupSafe>=2.0 in /usr/local/lib/python3.11/dist-packages (from jinja2->torch_geometric) (3.0.2)\n",
            "Requirement already satisfied: charset-normalizer<4,>=2 in /usr/local/lib/python3.11/dist-packages (from requests->torch_geometric) (3.4.2)\n",
            "Requirement already satisfied: idna<4,>=2.5 in /usr/local/lib/python3.11/dist-packages (from requests->torch_geometric) (3.10)\n",
            "Requirement already satisfied: urllib3<3,>=1.21.1 in /usr/local/lib/python3.11/dist-packages (from requests->torch_geometric) (2.4.0)\n",
            "Requirement already satisfied: certifi>=2017.4.17 in /usr/local/lib/python3.11/dist-packages (from requests->torch_geometric) (2025.4.26)\n",
            "Downloading torch_geometric-2.6.1-py3-none-any.whl (1.1 MB)\n",
            "\u001b[2K   \u001b[90m━━━━━━━━━━━━━━━━━━━━━━━━━━━━━━━━━━━━━━━━\u001b[0m \u001b[32m1.1/1.1 MB\u001b[0m \u001b[31m15.7 MB/s\u001b[0m eta \u001b[36m0:00:00\u001b[0m\n",
            "\u001b[?25hInstalling collected packages: torch_geometric\n",
            "Successfully installed torch_geometric-2.6.1\n"
          ]
        }
      ]
    },
    {
      "cell_type": "code",
      "execution_count": 3,
      "metadata": {
        "id": "MBqQCefbjMle"
      },
      "outputs": [],
      "source": [
        "import argparse\n",
        "import os.path as osp\n",
        "from typing import Any, Dict, Optional\n",
        "\n",
        "import torch\n",
        "from torch.nn import (\n",
        "    BatchNorm1d,\n",
        "    Embedding,\n",
        "    Linear,\n",
        "    ModuleList,\n",
        "    ReLU,\n",
        "    Sequential,\n",
        ")\n",
        "from torch.optim.lr_scheduler import ReduceLROnPlateau\n",
        "\n",
        "import torch_geometric.transforms as T\n",
        "from torch_geometric.datasets import ZINC\n",
        "from torch_geometric.loader import DataLoader\n",
        "from torch_geometric.nn import GINEConv, GPSConv, global_add_pool\n",
        "from torch_geometric.nn.attention import PerformerAttention"
      ]
    },
    {
      "cell_type": "code",
      "source": [
        "import os\n",
        "path = osp.join(osp.dirname(os.getcwd()), '..', 'data', 'ZINC-PE')\n",
        "transform = T.AddRandomWalkPE(walk_length=20, attr_name='pe')\n",
        "train_dataset = ZINC(path, subset=True, split='train', pre_transform=transform)\n",
        "val_dataset = ZINC(path, subset=True, split='val', pre_transform=transform)\n",
        "test_dataset = ZINC(path, subset=True, split='test', pre_transform=transform)\n",
        "\n",
        "train_loader = DataLoader(train_dataset, batch_size=32, shuffle=True)\n",
        "val_loader = DataLoader(val_dataset, batch_size=64)\n",
        "test_loader = DataLoader(test_dataset, batch_size=64)"
      ],
      "metadata": {
        "colab": {
          "base_uri": "https://localhost:8080/"
        },
        "id": "U4r0TCQOjOei",
        "outputId": "add0a65d-4abd-42ba-baea-87859b593578"
      },
      "execution_count": 8,
      "outputs": [
        {
          "output_type": "stream",
          "name": "stderr",
          "text": [
            "Downloading https://www.dropbox.com/s/feo9qle74kg48gy/molecules.zip?dl=1\n",
            "Extracting /data/ZINC-PE/molecules.zip\n",
            "Downloading https://raw.githubusercontent.com/graphdeeplearning/benchmarking-gnns/master/data/molecules/train.index\n",
            "Downloading https://raw.githubusercontent.com/graphdeeplearning/benchmarking-gnns/master/data/molecules/val.index\n",
            "Downloading https://raw.githubusercontent.com/graphdeeplearning/benchmarking-gnns/master/data/molecules/test.index\n",
            "Processing...\n",
            "Processing train dataset: 100%|██████████| 10000/10000 [00:06<00:00, 1461.95it/s]\n",
            "Processing val dataset: 100%|██████████| 1000/1000 [00:00<00:00, 1116.38it/s]\n",
            "Processing test dataset: 100%|██████████| 1000/1000 [00:00<00:00, 1378.00it/s]\n",
            "Done!\n"
          ]
        }
      ]
    },
    {
      "cell_type": "code",
      "source": [
        "parser = argparse.ArgumentParser()\n",
        "parser.add_argument(\n",
        "    '--attn_type', default='multihead',\n",
        "    help=\"Global attention type such as 'multihead' or 'performer'.\")\n",
        "args = parser.parse_args([])"
      ],
      "metadata": {
        "id": "aHqVoC6VojAy"
      },
      "execution_count": 16,
      "outputs": []
    },
    {
      "cell_type": "code",
      "source": [
        "class GPS(torch.nn.Module):\n",
        "    def __init__(self, channels: int, pe_dim: int, num_layers: int,\n",
        "                 attn_type: str, attn_kwargs: Dict[str, Any]):\n",
        "        super().__init__()\n",
        "\n",
        "        self.node_emb = Embedding(28, channels - pe_dim)\n",
        "        self.pe_lin = Linear(20, pe_dim)\n",
        "        self.pe_norm = BatchNorm1d(20)\n",
        "        self.edge_emb = Embedding(4, channels)\n",
        "\n",
        "        self.convs = ModuleList()\n",
        "        for _ in range(num_layers):\n",
        "            nn = Sequential(\n",
        "                Linear(channels, channels),\n",
        "                ReLU(),\n",
        "                Linear(channels, channels),\n",
        "            )\n",
        "            conv = GPSConv(channels, GINEConv(nn), heads=4,\n",
        "                           attn_type=attn_type, attn_kwargs=attn_kwargs)\n",
        "            self.convs.append(conv)\n",
        "\n",
        "        self.mlp = Sequential(\n",
        "            Linear(channels, channels // 2),\n",
        "            ReLU(),\n",
        "            Linear(channels // 2, channels // 4),\n",
        "            ReLU(),\n",
        "            Linear(channels // 4, 1),\n",
        "        )\n",
        "        self.redraw_projection = RedrawProjection(\n",
        "            self.convs,\n",
        "            redraw_interval=1000 if attn_type == 'performer' else None)\n",
        "\n",
        "    def forward(self, x, pe, edge_index, edge_attr, batch):\n",
        "        x_pe = self.pe_norm(pe)\n",
        "        x = torch.cat((self.node_emb(x.squeeze(-1)), self.pe_lin(x_pe)), 1)\n",
        "        edge_attr = self.edge_emb(edge_attr)\n",
        "\n",
        "        for conv in self.convs:\n",
        "            x = conv(x, edge_index, batch, edge_attr=edge_attr)\n",
        "        x = global_add_pool(x, batch)\n",
        "        return self.mlp(x)\n",
        "\n"
      ],
      "metadata": {
        "id": "Tb2rVlfMpMEC"
      },
      "execution_count": 17,
      "outputs": []
    },
    {
      "cell_type": "code",
      "source": [
        "class RedrawProjection:\n",
        "    def __init__(self, model: torch.nn.Module,\n",
        "                 redraw_interval: Optional[int] = None):\n",
        "        self.model = model\n",
        "        self.redraw_interval = redraw_interval\n",
        "        self.num_last_redraw = 0\n",
        "\n",
        "    def redraw_projections(self):\n",
        "        if not self.model.training or self.redraw_interval is None:\n",
        "            return\n",
        "        if self.num_last_redraw >= self.redraw_interval:\n",
        "            fast_attentions = [\n",
        "                module for module in self.model.modules()\n",
        "                if isinstance(module, PerformerAttention)\n",
        "            ]\n",
        "            for fast_attention in fast_attentions:\n",
        "                fast_attention.redraw_projection_matrix()\n",
        "            self.num_last_redraw = 0\n",
        "            return\n",
        "        self.num_last_redraw += 1\n",
        "\n",
        "\n",
        "device = torch.device('cuda' if torch.cuda.is_available() else 'cpu')\n",
        "attn_kwargs = {'dropout': 0.5}\n",
        "model = GPS(channels=64, pe_dim=8, num_layers=10, attn_type=args.attn_type,\n",
        "            attn_kwargs=attn_kwargs).to(device)\n",
        "optimizer = torch.optim.Adam(model.parameters(), lr=0.001, weight_decay=1e-5)\n",
        "scheduler = ReduceLROnPlateau(optimizer, mode='min', factor=0.5, patience=20,\n",
        "                              min_lr=0.00001)\n"
      ],
      "metadata": {
        "id": "H8l5UHfJpXXX"
      },
      "execution_count": 18,
      "outputs": []
    },
    {
      "cell_type": "code",
      "source": [
        "def train():\n",
        "    model.train()\n",
        "\n",
        "    total_loss = 0\n",
        "    for data in train_loader:\n",
        "        data = data.to(device)\n",
        "        optimizer.zero_grad()\n",
        "        model.redraw_projection.redraw_projections()\n",
        "        out = model(data.x, data.pe, data.edge_index, data.edge_attr,\n",
        "                    data.batch)\n",
        "        loss = (out.squeeze() - data.y).abs().mean()\n",
        "        loss.backward()\n",
        "        total_loss += loss.item() * data.num_graphs\n",
        "        optimizer.step()\n",
        "    return total_loss / len(train_loader.dataset)\n",
        "\n",
        "\n",
        "@torch.no_grad()\n",
        "def test(loader):\n",
        "    model.eval()\n",
        "\n",
        "    total_error = 0\n",
        "    for data in loader:\n",
        "        data = data.to(device)\n",
        "        out = model(data.x, data.pe, data.edge_index, data.edge_attr,\n",
        "                    data.batch)\n",
        "        total_error += (out.squeeze() - data.y).abs().sum().item()\n",
        "    return total_error / len(loader.dataset)"
      ],
      "metadata": {
        "id": "3FaYLWdqpXtZ"
      },
      "execution_count": 19,
      "outputs": []
    },
    {
      "cell_type": "code",
      "source": [
        "for epoch in range(1, 101):\n",
        "    loss = train()\n",
        "    val_mae = test(val_loader)\n",
        "    test_mae = test(test_loader)\n",
        "    scheduler.step(val_mae)\n",
        "    print(f'Epoch: {epoch:02d}, Loss: {loss:.4f}, Val: {val_mae:.4f}, '\n",
        "          f'Test: {test_mae:.4f}')"
      ],
      "metadata": {
        "colab": {
          "base_uri": "https://localhost:8080/",
          "height": 1000
        },
        "id": "4uClIoYVpcp6",
        "outputId": "58c8f390-f95b-4bdf-c954-2abaa817855e"
      },
      "execution_count": 20,
      "outputs": [
        {
          "output_type": "stream",
          "name": "stdout",
          "text": [
            "Epoch: 01, Loss: 0.6651, Val: 0.5069, Test: 0.5385\n",
            "Epoch: 02, Loss: 0.5413, Val: 0.5185, Test: 0.4784\n",
            "Epoch: 03, Loss: 0.4902, Val: 0.4522, Test: 0.4599\n",
            "Epoch: 04, Loss: 0.4750, Val: 0.3713, Test: 0.3636\n",
            "Epoch: 05, Loss: 0.4474, Val: 0.4002, Test: 0.3749\n",
            "Epoch: 06, Loss: 0.4183, Val: 0.4131, Test: 0.4031\n",
            "Epoch: 07, Loss: 0.4068, Val: 0.5295, Test: 0.5204\n",
            "Epoch: 08, Loss: 0.3816, Val: 0.4454, Test: 0.4121\n",
            "Epoch: 09, Loss: 0.3875, Val: 0.4598, Test: 0.4399\n",
            "Epoch: 10, Loss: 0.3838, Val: 0.3574, Test: 0.3294\n",
            "Epoch: 11, Loss: 0.3719, Val: 0.3098, Test: 0.2999\n",
            "Epoch: 12, Loss: 0.3636, Val: 0.4494, Test: 0.4215\n",
            "Epoch: 13, Loss: 0.3566, Val: 0.4697, Test: 0.4556\n",
            "Epoch: 14, Loss: 0.3596, Val: 0.4023, Test: 0.3593\n",
            "Epoch: 15, Loss: 0.3819, Val: 0.4213, Test: 0.4013\n",
            "Epoch: 16, Loss: 0.3540, Val: 0.4350, Test: 0.3970\n",
            "Epoch: 17, Loss: 0.3294, Val: 0.4111, Test: 0.3591\n",
            "Epoch: 18, Loss: 0.3160, Val: 0.3703, Test: 0.3741\n",
            "Epoch: 19, Loss: 0.3577, Val: 0.3647, Test: 0.3348\n",
            "Epoch: 20, Loss: 0.3356, Val: 0.4692, Test: 0.4572\n",
            "Epoch: 21, Loss: 0.3254, Val: 0.4006, Test: 0.3702\n",
            "Epoch: 22, Loss: 0.3281, Val: 1.5186, Test: 1.6974\n",
            "Epoch: 23, Loss: 0.3182, Val: 0.2970, Test: 0.2832\n",
            "Epoch: 24, Loss: 0.3072, Val: 0.3145, Test: 0.2903\n",
            "Epoch: 25, Loss: 0.2940, Val: 0.3821, Test: 0.3662\n",
            "Epoch: 26, Loss: 0.3293, Val: 0.2803, Test: 0.2624\n",
            "Epoch: 27, Loss: 0.3163, Val: 0.4008, Test: 0.3623\n",
            "Epoch: 28, Loss: 0.3087, Val: 0.3270, Test: 0.3081\n",
            "Epoch: 29, Loss: 0.3086, Val: 0.3366, Test: 0.3164\n",
            "Epoch: 30, Loss: 0.2989, Val: 0.3290, Test: 0.3205\n",
            "Epoch: 31, Loss: 0.2975, Val: 0.3272, Test: 0.2937\n",
            "Epoch: 32, Loss: 0.2940, Val: 0.2949, Test: 0.2816\n",
            "Epoch: 33, Loss: 0.3013, Val: 0.2571, Test: 0.2332\n",
            "Epoch: 34, Loss: 0.2905, Val: 0.2710, Test: 0.2481\n",
            "Epoch: 35, Loss: 0.2867, Val: 0.4428, Test: 0.4141\n",
            "Epoch: 36, Loss: 0.2701, Val: 0.2385, Test: 0.2223\n",
            "Epoch: 37, Loss: 0.2653, Val: 0.2401, Test: 0.2239\n",
            "Epoch: 38, Loss: 0.3071, Val: 0.3328, Test: 0.3149\n"
          ]
        },
        {
          "output_type": "error",
          "ename": "KeyboardInterrupt",
          "evalue": "",
          "traceback": [
            "\u001b[0;31m---------------------------------------------------------------------------\u001b[0m",
            "\u001b[0;31mKeyboardInterrupt\u001b[0m                         Traceback (most recent call last)",
            "\u001b[0;32m<ipython-input-20-f91eb2e26ad4>\u001b[0m in \u001b[0;36m<cell line: 0>\u001b[0;34m()\u001b[0m\n\u001b[1;32m      1\u001b[0m \u001b[0;32mfor\u001b[0m \u001b[0mepoch\u001b[0m \u001b[0;32min\u001b[0m \u001b[0mrange\u001b[0m\u001b[0;34m(\u001b[0m\u001b[0;36m1\u001b[0m\u001b[0;34m,\u001b[0m \u001b[0;36m101\u001b[0m\u001b[0;34m)\u001b[0m\u001b[0;34m:\u001b[0m\u001b[0;34m\u001b[0m\u001b[0;34m\u001b[0m\u001b[0m\n\u001b[0;32m----> 2\u001b[0;31m     \u001b[0mloss\u001b[0m \u001b[0;34m=\u001b[0m \u001b[0mtrain\u001b[0m\u001b[0;34m(\u001b[0m\u001b[0;34m)\u001b[0m\u001b[0;34m\u001b[0m\u001b[0;34m\u001b[0m\u001b[0m\n\u001b[0m\u001b[1;32m      3\u001b[0m     \u001b[0mval_mae\u001b[0m \u001b[0;34m=\u001b[0m \u001b[0mtest\u001b[0m\u001b[0;34m(\u001b[0m\u001b[0mval_loader\u001b[0m\u001b[0;34m)\u001b[0m\u001b[0;34m\u001b[0m\u001b[0;34m\u001b[0m\u001b[0m\n\u001b[1;32m      4\u001b[0m     \u001b[0mtest_mae\u001b[0m \u001b[0;34m=\u001b[0m \u001b[0mtest\u001b[0m\u001b[0;34m(\u001b[0m\u001b[0mtest_loader\u001b[0m\u001b[0;34m)\u001b[0m\u001b[0;34m\u001b[0m\u001b[0;34m\u001b[0m\u001b[0m\n\u001b[1;32m      5\u001b[0m     \u001b[0mscheduler\u001b[0m\u001b[0;34m.\u001b[0m\u001b[0mstep\u001b[0m\u001b[0;34m(\u001b[0m\u001b[0mval_mae\u001b[0m\u001b[0;34m)\u001b[0m\u001b[0;34m\u001b[0m\u001b[0;34m\u001b[0m\u001b[0m\n",
            "\u001b[0;32m<ipython-input-19-c775731e1f4e>\u001b[0m in \u001b[0;36mtrain\u001b[0;34m()\u001b[0m\n\u001b[1;32m     10\u001b[0m                     data.batch)\n\u001b[1;32m     11\u001b[0m         \u001b[0mloss\u001b[0m \u001b[0;34m=\u001b[0m \u001b[0;34m(\u001b[0m\u001b[0mout\u001b[0m\u001b[0;34m.\u001b[0m\u001b[0msqueeze\u001b[0m\u001b[0;34m(\u001b[0m\u001b[0;34m)\u001b[0m \u001b[0;34m-\u001b[0m \u001b[0mdata\u001b[0m\u001b[0;34m.\u001b[0m\u001b[0my\u001b[0m\u001b[0;34m)\u001b[0m\u001b[0;34m.\u001b[0m\u001b[0mabs\u001b[0m\u001b[0;34m(\u001b[0m\u001b[0;34m)\u001b[0m\u001b[0;34m.\u001b[0m\u001b[0mmean\u001b[0m\u001b[0;34m(\u001b[0m\u001b[0;34m)\u001b[0m\u001b[0;34m\u001b[0m\u001b[0;34m\u001b[0m\u001b[0m\n\u001b[0;32m---> 12\u001b[0;31m         \u001b[0mloss\u001b[0m\u001b[0;34m.\u001b[0m\u001b[0mbackward\u001b[0m\u001b[0;34m(\u001b[0m\u001b[0;34m)\u001b[0m\u001b[0;34m\u001b[0m\u001b[0;34m\u001b[0m\u001b[0m\n\u001b[0m\u001b[1;32m     13\u001b[0m         \u001b[0mtotal_loss\u001b[0m \u001b[0;34m+=\u001b[0m \u001b[0mloss\u001b[0m\u001b[0;34m.\u001b[0m\u001b[0mitem\u001b[0m\u001b[0;34m(\u001b[0m\u001b[0;34m)\u001b[0m \u001b[0;34m*\u001b[0m \u001b[0mdata\u001b[0m\u001b[0;34m.\u001b[0m\u001b[0mnum_graphs\u001b[0m\u001b[0;34m\u001b[0m\u001b[0;34m\u001b[0m\u001b[0m\n\u001b[1;32m     14\u001b[0m         \u001b[0moptimizer\u001b[0m\u001b[0;34m.\u001b[0m\u001b[0mstep\u001b[0m\u001b[0;34m(\u001b[0m\u001b[0;34m)\u001b[0m\u001b[0;34m\u001b[0m\u001b[0;34m\u001b[0m\u001b[0m\n",
            "\u001b[0;32m/usr/local/lib/python3.11/dist-packages/torch/_tensor.py\u001b[0m in \u001b[0;36mbackward\u001b[0;34m(self, gradient, retain_graph, create_graph, inputs)\u001b[0m\n\u001b[1;32m    624\u001b[0m                 \u001b[0minputs\u001b[0m\u001b[0;34m=\u001b[0m\u001b[0minputs\u001b[0m\u001b[0;34m,\u001b[0m\u001b[0;34m\u001b[0m\u001b[0;34m\u001b[0m\u001b[0m\n\u001b[1;32m    625\u001b[0m             )\n\u001b[0;32m--> 626\u001b[0;31m         torch.autograd.backward(\n\u001b[0m\u001b[1;32m    627\u001b[0m             \u001b[0mself\u001b[0m\u001b[0;34m,\u001b[0m \u001b[0mgradient\u001b[0m\u001b[0;34m,\u001b[0m \u001b[0mretain_graph\u001b[0m\u001b[0;34m,\u001b[0m \u001b[0mcreate_graph\u001b[0m\u001b[0;34m,\u001b[0m \u001b[0minputs\u001b[0m\u001b[0;34m=\u001b[0m\u001b[0minputs\u001b[0m\u001b[0;34m\u001b[0m\u001b[0;34m\u001b[0m\u001b[0m\n\u001b[1;32m    628\u001b[0m         )\n",
            "\u001b[0;32m/usr/local/lib/python3.11/dist-packages/torch/autograd/__init__.py\u001b[0m in \u001b[0;36mbackward\u001b[0;34m(tensors, grad_tensors, retain_graph, create_graph, grad_variables, inputs)\u001b[0m\n\u001b[1;32m    345\u001b[0m     \u001b[0;31m# some Python versions print out the first line of a multi-line function\u001b[0m\u001b[0;34m\u001b[0m\u001b[0;34m\u001b[0m\u001b[0m\n\u001b[1;32m    346\u001b[0m     \u001b[0;31m# calls in the traceback and some print out the last line\u001b[0m\u001b[0;34m\u001b[0m\u001b[0;34m\u001b[0m\u001b[0m\n\u001b[0;32m--> 347\u001b[0;31m     _engine_run_backward(\n\u001b[0m\u001b[1;32m    348\u001b[0m         \u001b[0mtensors\u001b[0m\u001b[0;34m,\u001b[0m\u001b[0;34m\u001b[0m\u001b[0;34m\u001b[0m\u001b[0m\n\u001b[1;32m    349\u001b[0m         \u001b[0mgrad_tensors_\u001b[0m\u001b[0;34m,\u001b[0m\u001b[0;34m\u001b[0m\u001b[0;34m\u001b[0m\u001b[0m\n",
            "\u001b[0;32m/usr/local/lib/python3.11/dist-packages/torch/autograd/graph.py\u001b[0m in \u001b[0;36m_engine_run_backward\u001b[0;34m(t_outputs, *args, **kwargs)\u001b[0m\n\u001b[1;32m    821\u001b[0m         \u001b[0munregister_hooks\u001b[0m \u001b[0;34m=\u001b[0m \u001b[0m_register_logging_hooks_on_whole_graph\u001b[0m\u001b[0;34m(\u001b[0m\u001b[0mt_outputs\u001b[0m\u001b[0;34m)\u001b[0m\u001b[0;34m\u001b[0m\u001b[0;34m\u001b[0m\u001b[0m\n\u001b[1;32m    822\u001b[0m     \u001b[0;32mtry\u001b[0m\u001b[0;34m:\u001b[0m\u001b[0;34m\u001b[0m\u001b[0;34m\u001b[0m\u001b[0m\n\u001b[0;32m--> 823\u001b[0;31m         return Variable._execution_engine.run_backward(  # Calls into the C++ engine to run the backward pass\n\u001b[0m\u001b[1;32m    824\u001b[0m             \u001b[0mt_outputs\u001b[0m\u001b[0;34m,\u001b[0m \u001b[0;34m*\u001b[0m\u001b[0margs\u001b[0m\u001b[0;34m,\u001b[0m \u001b[0;34m**\u001b[0m\u001b[0mkwargs\u001b[0m\u001b[0;34m\u001b[0m\u001b[0;34m\u001b[0m\u001b[0m\n\u001b[1;32m    825\u001b[0m         )  # Calls into the C++ engine to run the backward pass\n",
            "\u001b[0;31mKeyboardInterrupt\u001b[0m: "
          ]
        }
      ]
    },
    {
      "cell_type": "code",
      "source": [
        "def compute_r2(preds, targets):\n",
        "    ss_res = ((targets - preds) ** 2).sum()\n",
        "    ss_tot = ((targets - targets.mean()) ** 2).sum()\n",
        "    return 1 - ss_res / ss_tot\n",
        "\n",
        "\n",
        "@torch.no_grad()\n",
        "def test_secondary(loader):\n",
        "    model.eval()\n",
        "    total_error = 0\n",
        "    total_squared_error = 0\n",
        "    preds, targets = [], []\n",
        "\n",
        "    for data in loader:\n",
        "        data = data.to(device)\n",
        "        out = model(data.x, data.pe, data.edge_index, data.edge_attr,\n",
        "                    data.batch)\n",
        "        pred = out.squeeze()\n",
        "        total_error += (pred - data.y).abs().sum().item()\n",
        "        total_squared_error += ((pred - data.y) ** 2).sum().item()\n",
        "        preds.append(pred.cpu())\n",
        "        targets.append(data.y.cpu())\n",
        "\n",
        "    preds = torch.cat(preds)\n",
        "    targets = torch.cat(targets)\n",
        "\n",
        "    mae = total_error / len(loader.dataset)\n",
        "    rmse = (total_squared_error / len(loader.dataset)) ** 0.5\n",
        "    r2 = compute_r2(preds, targets)\n",
        "    return mae, rmse, r2\n"
      ],
      "metadata": {
        "id": "VkG_qo2Opgci"
      },
      "execution_count": 21,
      "outputs": []
    },
    {
      "cell_type": "code",
      "source": [
        "test_secondary(test_loader)"
      ],
      "metadata": {
        "colab": {
          "base_uri": "https://localhost:8080/"
        },
        "id": "NS8y5sYpzRJD",
        "outputId": "103f2858-ca66-4766-d57a-59c24613d8f0"
      },
      "execution_count": 22,
      "outputs": [
        {
          "output_type": "execute_result",
          "data": {
            "text/plain": [
              "(0.26892981338500976, 0.5348927551696027, tensor(0.9297))"
            ]
          },
          "metadata": {},
          "execution_count": 22
        }
      ]
    },
    {
      "cell_type": "code",
      "source": [],
      "metadata": {
        "id": "PEoJB9KPzU7o"
      },
      "execution_count": null,
      "outputs": []
    }
  ]
}