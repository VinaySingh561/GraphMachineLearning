{
 "cells": [
  {
   "cell_type": "code",
   "execution_count": 1,
   "id": "1ecd87b1",
   "metadata": {},
   "outputs": [
    {
     "name": "stdout",
     "output_type": "stream",
     "text": [
      "2.3.0+cpu\n",
      "None\n"
     ]
    }
   ],
   "source": [
    "# Check pytorch version and make sure you use a GPU Kernel\n",
    "!python -c \"import torch; print(torch.__version__)\"\n",
    "!python -c \"import torch; print(torch.version.cuda)\""
   ]
  },
  {
   "cell_type": "code",
   "execution_count": 2,
   "id": "32396578",
   "metadata": {},
   "outputs": [
    {
     "name": "stdout",
     "output_type": "stream",
     "text": [
      "Collecting torchvision\n",
      "  Downloading torchvision-0.18.0-cp310-cp310-win_amd64.whl.metadata (6.6 kB)\n",
      "Collecting numpy (from torchvision)\n",
      "  Downloading numpy-1.26.4-cp310-cp310-win_amd64.whl.metadata (61 kB)\n",
      "     ---------------------------------------- 0.0/61.0 kB ? eta -:--:--\n",
      "     ------ --------------------------------- 10.2/61.0 kB ? eta -:--:--\n",
      "     ------------------------- ------------ 41.0/61.0 kB 495.5 kB/s eta 0:00:01\n",
      "     -------------------------------------- 61.0/61.0 kB 651.3 kB/s eta 0:00:00\n",
      "Requirement already satisfied: torch==2.3.0 in c:\\users\\vs225\\anaconda3\\envs\\graphml\\lib\\site-packages (from torchvision) (2.3.0)\n",
      "Collecting pillow!=8.3.*,>=5.3.0 (from torchvision)\n",
      "  Downloading pillow-10.3.0-cp310-cp310-win_amd64.whl.metadata (9.4 kB)\n",
      "Requirement already satisfied: filelock in c:\\users\\vs225\\anaconda3\\envs\\graphml\\lib\\site-packages (from torch==2.3.0->torchvision) (3.14.0)\n",
      "Requirement already satisfied: typing-extensions>=4.8.0 in c:\\users\\vs225\\anaconda3\\envs\\graphml\\lib\\site-packages (from torch==2.3.0->torchvision) (4.11.0)\n",
      "Requirement already satisfied: sympy in c:\\users\\vs225\\anaconda3\\envs\\graphml\\lib\\site-packages (from torch==2.3.0->torchvision) (1.12)\n",
      "Requirement already satisfied: networkx in c:\\users\\vs225\\anaconda3\\envs\\graphml\\lib\\site-packages (from torch==2.3.0->torchvision) (3.3)\n",
      "Requirement already satisfied: jinja2 in c:\\users\\vs225\\anaconda3\\envs\\graphml\\lib\\site-packages (from torch==2.3.0->torchvision) (3.1.4)\n",
      "Requirement already satisfied: fsspec in c:\\users\\vs225\\anaconda3\\envs\\graphml\\lib\\site-packages (from torch==2.3.0->torchvision) (2024.5.0)\n",
      "Requirement already satisfied: mkl<=2021.4.0,>=2021.1.1 in c:\\users\\vs225\\anaconda3\\envs\\graphml\\lib\\site-packages (from torch==2.3.0->torchvision) (2021.4.0)\n",
      "Requirement already satisfied: intel-openmp==2021.* in c:\\users\\vs225\\anaconda3\\envs\\graphml\\lib\\site-packages (from mkl<=2021.4.0,>=2021.1.1->torch==2.3.0->torchvision) (2021.4.0)\n",
      "Requirement already satisfied: tbb==2021.* in c:\\users\\vs225\\anaconda3\\envs\\graphml\\lib\\site-packages (from mkl<=2021.4.0,>=2021.1.1->torch==2.3.0->torchvision) (2021.12.0)\n",
      "Requirement already satisfied: MarkupSafe>=2.0 in c:\\users\\vs225\\anaconda3\\envs\\graphml\\lib\\site-packages (from jinja2->torch==2.3.0->torchvision) (2.1.5)\n",
      "Requirement already satisfied: mpmath>=0.19 in c:\\users\\vs225\\anaconda3\\envs\\graphml\\lib\\site-packages (from sympy->torch==2.3.0->torchvision) (1.3.0)\n",
      "Downloading torchvision-0.18.0-cp310-cp310-win_amd64.whl (1.2 MB)\n",
      "   ---------------------------------------- 0.0/1.2 MB ? eta -:--:--\n",
      "   -- ------------------------------------- 0.1/1.2 MB 3.2 MB/s eta 0:00:01\n",
      "   ------ --------------------------------- 0.2/1.2 MB 2.9 MB/s eta 0:00:01\n",
      "   ------ --------------------------------- 0.2/1.2 MB 2.9 MB/s eta 0:00:01\n",
      "   --------------- ------------------------ 0.5/1.2 MB 3.1 MB/s eta 0:00:01\n",
      "   ------------------------------- -------- 0.9/1.2 MB 4.1 MB/s eta 0:00:01\n",
      "   ------------------------------- -------- 0.9/1.2 MB 4.1 MB/s eta 0:00:01\n",
      "   ---------------------------------------- 1.2/1.2 MB 3.9 MB/s eta 0:00:00\n",
      "Downloading pillow-10.3.0-cp310-cp310-win_amd64.whl (2.5 MB)\n",
      "   ---------------------------------------- 0.0/2.5 MB ? eta -:--:--\n",
      "   --- ------------------------------------ 0.2/2.5 MB ? eta -:--:--\n",
      "   --- ------------------------------------ 0.2/2.5 MB ? eta -:--:--\n",
      "   --- ------------------------------------ 0.2/2.5 MB ? eta -:--:--\n",
      "   --- ------------------------------------ 0.2/2.5 MB ? eta -:--:--\n",
      "   --- ------------------------------------ 0.2/2.5 MB ? eta -:--:--\n",
      "   --- ------------------------------------ 0.2/2.5 MB ? eta -:--:--\n",
      "   --- ------------------------------------ 0.2/2.5 MB ? eta -:--:--\n",
      "   --- ------------------------------------ 0.2/2.5 MB ? eta -:--:--\n",
      "   --- ------------------------------------ 0.2/2.5 MB ? eta -:--:--\n",
      "   --- ------------------------------------ 0.2/2.5 MB ? eta -:--:--\n",
      "   --- ------------------------------------ 0.2/2.5 MB ? eta -:--:--\n",
      "   --- ------------------------------------ 0.2/2.5 MB ? eta -:--:--\n",
      "   --- ------------------------------------ 0.2/2.5 MB ? eta -:--:--\n",
      "   --- ------------------------------------ 0.2/2.5 MB ? eta -:--:--\n",
      "   --- ------------------------------------ 0.2/2.5 MB ? eta -:--:--\n",
      "   --- ------------------------------------ 0.2/2.5 MB ? eta -:--:--\n",
      "   --- ------------------------------------ 0.2/2.5 MB ? eta -:--:--\n",
      "   --- ------------------------------------ 0.2/2.5 MB ? eta -:--:--\n",
      "   --- ------------------------------------ 0.2/2.5 MB ? eta -:--:--\n",
      "   --- ------------------------------------ 0.2/2.5 MB ? eta -:--:--\n",
      "   ---- ----------------------------------- 0.3/2.5 MB 253.6 kB/s eta 0:00:09\n",
      "   ---- ----------------------------------- 0.3/2.5 MB 253.6 kB/s eta 0:00:09\n",
      "   ---- ----------------------------------- 0.3/2.5 MB 258.2 kB/s eta 0:00:09\n",
      "   ----- ---------------------------------- 0.3/2.5 MB 280.8 kB/s eta 0:00:08\n",
      "   ------ --------------------------------- 0.4/2.5 MB 341.0 kB/s eta 0:00:07\n",
      "   -------- ------------------------------- 0.5/2.5 MB 425.6 kB/s eta 0:00:05\n",
      "   ---------- ----------------------------- 0.6/2.5 MB 507.9 kB/s eta 0:00:04\n",
      "   ------------- -------------------------- 0.8/2.5 MB 623.9 kB/s eta 0:00:03\n",
      "   ---------------- ----------------------- 1.0/2.5 MB 746.7 kB/s eta 0:00:03\n",
      "   ----------------------- ---------------- 1.5/2.5 MB 1.1 MB/s eta 0:00:01\n",
      "   -------------------------------- ------- 2.0/2.5 MB 1.4 MB/s eta 0:00:01\n",
      "   ---------------------------------------- 2.5/2.5 MB 1.7 MB/s eta 0:00:00\n",
      "Downloading numpy-1.26.4-cp310-cp310-win_amd64.whl (15.8 MB)\n",
      "   ---------------------------------------- 0.0/15.8 MB ? eta -:--:--\n",
      "   - -------------------------------------- 0.6/15.8 MB 19.5 MB/s eta 0:00:01\n",
      "   --- ------------------------------------ 1.3/15.8 MB 13.9 MB/s eta 0:00:02\n",
      "   ----- ---------------------------------- 2.0/15.8 MB 16.1 MB/s eta 0:00:01\n",
      "   ------ --------------------------------- 2.7/15.8 MB 15.9 MB/s eta 0:00:01\n",
      "   -------- ------------------------------- 3.4/15.8 MB 15.7 MB/s eta 0:00:01\n",
      "   ---------- ----------------------------- 4.1/15.8 MB 14.5 MB/s eta 0:00:01\n",
      "   ------------ --------------------------- 4.8/15.8 MB 15.5 MB/s eta 0:00:01\n",
      "   -------------- ------------------------- 5.8/15.8 MB 15.5 MB/s eta 0:00:01\n",
      "   ---------------- ----------------------- 6.7/15.8 MB 15.7 MB/s eta 0:00:01\n",
      "   ------------------ --------------------- 7.5/15.8 MB 16.5 MB/s eta 0:00:01\n",
      "   -------------------- ------------------- 8.1/15.8 MB 16.2 MB/s eta 0:00:01\n",
      "   -------------------- ------------------- 8.1/15.8 MB 16.2 MB/s eta 0:00:01\n",
      "   ------------------------ --------------- 9.8/15.8 MB 16.1 MB/s eta 0:00:01\n",
      "   ------------------------- -------------- 9.9/15.8 MB 16.2 MB/s eta 0:00:01\n",
      "   -------------------------- ------------- 10.4/15.8 MB 15.2 MB/s eta 0:00:01\n",
      "   ----------------------------- ---------- 11.6/15.8 MB 16.0 MB/s eta 0:00:01\n",
      "   ------------------------------ --------- 12.1/15.8 MB 15.6 MB/s eta 0:00:01\n",
      "   ------------------------------- -------- 12.6/15.8 MB 15.2 MB/s eta 0:00:01\n",
      "   --------------------------------- ------ 13.1/15.8 MB 15.2 MB/s eta 0:00:01\n",
      "   ---------------------------------- ----- 13.6/15.8 MB 14.6 MB/s eta 0:00:01\n",
      "   ----------------------------------- ---- 14.2/15.8 MB 14.6 MB/s eta 0:00:01\n",
      "   ------------------------------------- -- 14.7/15.8 MB 14.2 MB/s eta 0:00:01\n",
      "   -------------------------------------- - 15.2/15.8 MB 13.9 MB/s eta 0:00:01\n",
      "   -------------------------------------- - 15.3/15.8 MB 13.6 MB/s eta 0:00:01\n",
      "   ---------------------------------------  15.6/15.8 MB 12.6 MB/s eta 0:00:01\n",
      "   ---------------------------------------  15.8/15.8 MB 12.4 MB/s eta 0:00:01\n",
      "   ---------------------------------------- 15.8/15.8 MB 11.9 MB/s eta 0:00:00\n",
      "Installing collected packages: pillow, numpy, torchvision\n",
      "Successfully installed numpy-1.26.4 pillow-10.3.0 torchvision-0.18.0\n"
     ]
    }
   ],
   "source": [
    "!pip install torchvision"
   ]
  },
  {
   "cell_type": "code",
   "execution_count": 3,
   "id": "34511ef1",
   "metadata": {},
   "outputs": [
    {
     "name": "stdout",
     "output_type": "stream",
     "text": [
      "Collecting rdkit\n",
      "  Downloading rdkit-2023.9.6-cp310-cp310-win_amd64.whl.metadata (4.0 kB)\n",
      "Requirement already satisfied: numpy in c:\\users\\vs225\\anaconda3\\envs\\graphml\\lib\\site-packages (from rdkit) (1.26.4)\n",
      "Requirement already satisfied: Pillow in c:\\users\\vs225\\anaconda3\\envs\\graphml\\lib\\site-packages (from rdkit) (10.3.0)\n",
      "Downloading rdkit-2023.9.6-cp310-cp310-win_amd64.whl (21.0 MB)\n",
      "   ---------------------------------------- 0.0/21.0 MB ? eta -:--:--\n",
      "   ---------------------------------------- 0.0/21.0 MB 330.3 kB/s eta 0:01:04\n",
      "   ---------------------------------------- 0.1/21.0 MB 660.6 kB/s eta 0:00:32\n",
      "   ---------------------------------------- 0.2/21.0 MB 1.5 MB/s eta 0:00:14\n",
      "    --------------------------------------- 0.4/21.0 MB 2.8 MB/s eta 0:00:08\n",
      "   - -------------------------------------- 1.0/21.0 MB 5.2 MB/s eta 0:00:04\n",
      "   --- ------------------------------------ 2.1/21.0 MB 8.8 MB/s eta 0:00:03\n",
      "   ----- ---------------------------------- 3.1/21.0 MB 10.6 MB/s eta 0:00:02\n",
      "   ----- ---------------------------------- 3.1/21.0 MB 10.6 MB/s eta 0:00:02\n",
      "   ----- ---------------------------------- 3.1/21.0 MB 10.6 MB/s eta 0:00:02\n",
      "   ----- ---------------------------------- 3.1/21.0 MB 10.6 MB/s eta 0:00:02\n",
      "   ----- ---------------------------------- 3.1/21.0 MB 10.6 MB/s eta 0:00:02\n",
      "   ------- -------------------------------- 3.9/21.0 MB 7.4 MB/s eta 0:00:03\n",
      "   --------- ------------------------------ 5.0/21.0 MB 8.9 MB/s eta 0:00:02\n",
      "   --------- ------------------------------ 5.1/21.0 MB 8.2 MB/s eta 0:00:02\n",
      "   --------- ------------------------------ 5.2/21.0 MB 7.8 MB/s eta 0:00:03\n",
      "   ---------- ----------------------------- 5.5/21.0 MB 7.9 MB/s eta 0:00:02\n",
      "   ----------- ---------------------------- 6.3/21.0 MB 8.3 MB/s eta 0:00:02\n",
      "   ----------- ---------------------------- 6.3/21.0 MB 8.0 MB/s eta 0:00:02\n",
      "   ------------- -------------------------- 7.3/21.0 MB 8.5 MB/s eta 0:00:02\n",
      "   ------------- -------------------------- 7.3/21.0 MB 8.5 MB/s eta 0:00:02\n",
      "   ------------- -------------------------- 7.3/21.0 MB 8.5 MB/s eta 0:00:02\n",
      "   ------------- -------------------------- 7.3/21.0 MB 8.5 MB/s eta 0:00:02\n",
      "   -------------- ------------------------- 7.7/21.0 MB 7.4 MB/s eta 0:00:02\n",
      "   --------------- ------------------------ 8.4/21.0 MB 7.9 MB/s eta 0:00:02\n",
      "   --------------- ------------------------ 8.4/21.0 MB 7.9 MB/s eta 0:00:02\n",
      "   --------------- ------------------------ 8.4/21.0 MB 7.9 MB/s eta 0:00:02\n",
      "   --------------- ------------------------ 8.4/21.0 MB 7.9 MB/s eta 0:00:02\n",
      "   --------------- ------------------------ 8.4/21.0 MB 7.9 MB/s eta 0:00:02\n",
      "   ---------------- ----------------------- 8.6/21.0 MB 6.4 MB/s eta 0:00:02\n",
      "   ---------------- ----------------------- 8.6/21.0 MB 6.3 MB/s eta 0:00:02\n",
      "   ---------------- ----------------------- 8.8/21.0 MB 6.2 MB/s eta 0:00:02\n",
      "   ----------------- ---------------------- 9.4/21.0 MB 6.4 MB/s eta 0:00:02\n",
      "   ----------------- ---------------------- 9.4/21.0 MB 6.3 MB/s eta 0:00:02\n",
      "   ----------------- ---------------------- 9.4/21.0 MB 6.3 MB/s eta 0:00:02\n",
      "   ----------------- ---------------------- 9.4/21.0 MB 6.3 MB/s eta 0:00:02\n",
      "   ----------------- ---------------------- 9.4/21.0 MB 6.3 MB/s eta 0:00:02\n",
      "   ----------------- ---------------------- 9.4/21.0 MB 6.3 MB/s eta 0:00:02\n",
      "   ----------------- ---------------------- 9.4/21.0 MB 6.3 MB/s eta 0:00:02\n",
      "   -------------------- ------------------- 10.5/21.0 MB 6.1 MB/s eta 0:00:02\n",
      "   ----------------------- ---------------- 12.6/21.0 MB 6.4 MB/s eta 0:00:02\n",
      "   ----------------------- ---------------- 12.6/21.0 MB 6.4 MB/s eta 0:00:02\n",
      "   ----------------------- ---------------- 12.6/21.0 MB 6.4 MB/s eta 0:00:02\n",
      "   ----------------------- ---------------- 12.6/21.0 MB 6.4 MB/s eta 0:00:02\n",
      "   ----------------------- ---------------- 12.6/21.0 MB 6.4 MB/s eta 0:00:02\n",
      "   --------------------------- ------------ 14.7/21.0 MB 6.6 MB/s eta 0:00:01\n",
      "   --------------------------- ------------ 14.7/21.0 MB 6.6 MB/s eta 0:00:01\n",
      "   --------------------------- ------------ 14.7/21.0 MB 6.6 MB/s eta 0:00:01\n",
      "   --------------------------- ------------ 14.7/21.0 MB 6.6 MB/s eta 0:00:01\n",
      "   --------------------------- ------------ 14.7/21.0 MB 6.6 MB/s eta 0:00:01\n",
      "   ---------------------------- ----------- 14.9/21.0 MB 5.8 MB/s eta 0:00:02\n",
      "   ------------------------------ --------- 15.8/21.0 MB 6.3 MB/s eta 0:00:01\n",
      "   -------------------------------- ------- 16.9/21.0 MB 6.5 MB/s eta 0:00:01\n",
      "   ----------------------------------- ---- 18.9/21.0 MB 9.8 MB/s eta 0:00:01\n",
      "   ----------------------------------- ---- 18.9/21.0 MB 9.8 MB/s eta 0:00:01\n",
      "   ----------------------------------- ---- 18.9/21.0 MB 9.8 MB/s eta 0:00:01\n",
      "   ----------------------------------- ---- 18.9/21.0 MB 9.8 MB/s eta 0:00:01\n",
      "   ---------------------------------------  20.4/21.0 MB 12.1 MB/s eta 0:00:01\n",
      "   ---------------------------------------  21.0/21.0 MB 12.1 MB/s eta 0:00:01\n",
      "   ---------------------------------------  21.0/21.0 MB 12.1 MB/s eta 0:00:01\n",
      "   ---------------------------------------  21.0/21.0 MB 12.1 MB/s eta 0:00:01\n",
      "   ---------------------------------------- 21.0/21.0 MB 10.2 MB/s eta 0:00:00\n",
      "Installing collected packages: rdkit\n",
      "Successfully installed rdkit-2023.9.6\n"
     ]
    }
   ],
   "source": [
    "!pip install rdkit"
   ]
  },
  {
   "cell_type": "code",
   "execution_count": 4,
   "id": "85177da2",
   "metadata": {},
   "outputs": [
    {
     "name": "stdout",
     "output_type": "stream",
     "text": [
      "Looking in links: https://pytorch-geometric.com/whl/torch-2.3.0+cpu.html\n",
      "Collecting torch-scatter\n",
      "  Downloading https://data.pyg.org/whl/torch-2.3.0%2Bcpu/torch_scatter-2.1.2%2Bpt23cpu-cp310-cp310-win_amd64.whl (336 kB)\n",
      "     ---------------------------------------- 0.0/336.6 kB ? eta -:--:--\n",
      "     -------------------------- ----------- 235.5/336.6 kB 4.8 MB/s eta 0:00:01\n",
      "     -------------------------------------- 336.6/336.6 kB 4.2 MB/s eta 0:00:00\n",
      "Installing collected packages: torch-scatter\n",
      "Successfully installed torch-scatter-2.1.2+pt23cpu\n",
      "Looking in links: https://pytorch-geometric.com/whl/torch-2.3.0+cpu.html\n",
      "Collecting torch-sparse\n",
      "  Downloading https://data.pyg.org/whl/torch-2.3.0%2Bcpu/torch_sparse-0.6.18%2Bpt23cpu-cp310-cp310-win_amd64.whl (793 kB)\n",
      "     ---------------------------------------- 0.0/793.1 kB ? eta -:--:--\n",
      "     ------------------------------------- 793.1/793.1 kB 24.5 MB/s eta 0:00:00\n",
      "INFO: pip is looking at multiple versions of torch-sparse to determine which version is compatible with other requirements. This could take a while.\n"
     ]
    },
    {
     "name": "stderr",
     "output_type": "stream",
     "text": [
      "ERROR: Could not find a version that satisfies the requirement scipy (from torch-sparse) (from versions: none)\n",
      "ERROR: No matching distribution found for scipy\n"
     ]
    },
    {
     "name": "stdout",
     "output_type": "stream",
     "text": [
      "Looking in links: https://pytorch-geometric.com/whl/torch-2.3.0+cpu.html\n",
      "Collecting torch-cluster\n",
      "  Downloading https://data.pyg.org/whl/torch-2.3.0%2Bcpu/torch_cluster-1.6.3%2Bpt23cpu-cp310-cp310-win_amd64.whl (508 kB)\n",
      "     ---------------------------------------- 0.0/508.3 kB ? eta -:--:--\n",
      "      --------------------------------------- 10.2/508.3 kB ? eta -:--:--\n",
      "      --------------------------------------- 10.2/508.3 kB ? eta -:--:--\n",
      "      --------------------------------------- 10.2/508.3 kB ? eta -:--:--\n",
      "      --------------------------------------- 10.2/508.3 kB ? eta -:--:--\n",
      "      --------------------------------------- 10.2/508.3 kB ? eta -:--:--\n",
      "     -- ---------------------------------- 41.0/508.3 kB 130.7 kB/s eta 0:00:04\n",
      "     -- ---------------------------------- 41.0/508.3 kB 130.7 kB/s eta 0:00:04\n",
      "     -- ---------------------------------- 41.0/508.3 kB 130.7 kB/s eta 0:00:04\n",
      "     -- ---------------------------------- 41.0/508.3 kB 130.7 kB/s eta 0:00:04\n",
      "     ------ ------------------------------ 92.2/508.3 kB 187.0 kB/s eta 0:00:03\n",
      "     ------ ------------------------------ 92.2/508.3 kB 187.0 kB/s eta 0:00:03\n",
      "     ------ ------------------------------ 92.2/508.3 kB 187.0 kB/s eta 0:00:03\n",
      "     ------ ------------------------------ 92.2/508.3 kB 187.0 kB/s eta 0:00:03\n",
      "     ------ ------------------------------ 92.2/508.3 kB 187.0 kB/s eta 0:00:03\n",
      "     -------------- --------------------- 204.8/508.3 kB 289.5 kB/s eta 0:00:02\n",
      "     -------------- --------------------- 204.8/508.3 kB 289.5 kB/s eta 0:00:02\n",
      "     -------------- --------------------- 204.8/508.3 kB 289.5 kB/s eta 0:00:02\n",
      "     -------------- --------------------- 204.8/508.3 kB 289.5 kB/s eta 0:00:02\n",
      "     ----------------------- ------------ 327.7/508.3 kB 356.3 kB/s eta 0:00:01\n",
      "     ------------------------------- ---- 440.3/508.3 kB 474.2 kB/s eta 0:00:01\n",
      "     ------------------------------- ---- 440.3/508.3 kB 474.2 kB/s eta 0:00:01\n",
      "     ------------------------------- ---- 440.3/508.3 kB 474.2 kB/s eta 0:00:01\n",
      "     ------------------------------- ---- 440.3/508.3 kB 474.2 kB/s eta 0:00:01\n",
      "     ------------------------------------ 508.3/508.3 kB 448.7 kB/s eta 0:00:00\n",
      "INFO: pip is looking at multiple versions of torch-cluster to determine which version is compatible with other requirements. This could take a while.\n"
     ]
    },
    {
     "name": "stderr",
     "output_type": "stream",
     "text": [
      "ERROR: Could not find a version that satisfies the requirement scipy (from torch-cluster) (from versions: none)\n",
      "ERROR: No matching distribution found for scipy\n"
     ]
    },
    {
     "name": "stdout",
     "output_type": "stream",
     "text": [
      "Looking in links: https://pytorch-geometric.com/whl/torch-2.3.0+cpu.html\n",
      "Collecting torch-spline-conv\n",
      "  Downloading https://data.pyg.org/whl/torch-2.3.0%2Bcpu/torch_spline_conv-1.2.2%2Bpt23cpu-cp310-cp310-win_amd64.whl (178 kB)\n",
      "     ---------------------------------------- 0.0/178.6 kB ? eta -:--:--\n",
      "     -- ------------------------------------- 10.2/178.6 kB ? eta -:--:--\n",
      "     -- ------------------------------------- 10.2/178.6 kB ? eta -:--:--\n",
      "     -- ------------------------------------- 10.2/178.6 kB ? eta -:--:--\n",
      "     -- ------------------------------------- 10.2/178.6 kB ? eta -:--:--\n",
      "     -- ------------------------------------- 10.2/178.6 kB ? eta -:--:--\n",
      "     -------- ---------------------------- 41.0/178.6 kB 122.9 kB/s eta 0:00:02\n",
      "     -------- ---------------------------- 41.0/178.6 kB 122.9 kB/s eta 0:00:02\n",
      "     -------- ---------------------------- 41.0/178.6 kB 122.9 kB/s eta 0:00:02\n",
      "     -------- ---------------------------- 41.0/178.6 kB 122.9 kB/s eta 0:00:02\n",
      "     -------- ---------------------------- 41.0/178.6 kB 122.9 kB/s eta 0:00:02\n",
      "     ------------------- ----------------- 92.2/178.6 kB 175.0 kB/s eta 0:00:01\n",
      "     ------------------- ----------------- 92.2/178.6 kB 175.0 kB/s eta 0:00:01\n",
      "     ------------------- ----------------- 92.2/178.6 kB 175.0 kB/s eta 0:00:01\n",
      "     ------------------- ----------------- 92.2/178.6 kB 175.0 kB/s eta 0:00:01\n",
      "     ------------------- ----------------- 92.2/178.6 kB 175.0 kB/s eta 0:00:01\n",
      "     ------------------------------------ 178.6/178.6 kB 245.1 kB/s eta 0:00:00\n",
      "Installing collected packages: torch-spline-conv\n",
      "Successfully installed torch-spline-conv-1.2.2+pt23cpu\n",
      "Collecting torch-geometric\n",
      "  Downloading torch_geometric-2.5.3-py3-none-any.whl.metadata (64 kB)\n",
      "     ---------------------------------------- 0.0/64.2 kB ? eta -:--:--\n",
      "     ------------ ------------------------- 20.5/64.2 kB 640.0 kB/s eta 0:00:01\n",
      "     ------------------------------------ - 61.4/64.2 kB 812.7 kB/s eta 0:00:01\n",
      "     -------------------------------------- 64.2/64.2 kB 691.2 kB/s eta 0:00:00\n",
      "Collecting tqdm (from torch-geometric)\n",
      "  Using cached tqdm-4.66.4-py3-none-any.whl.metadata (57 kB)\n",
      "Requirement already satisfied: numpy in c:\\users\\vs225\\anaconda3\\envs\\graphml\\lib\\site-packages (from torch-geometric) (1.26.4)\n",
      "Collecting scipy (from torch-geometric)\n",
      "  Downloading scipy-1.13.0-cp310-cp310-win_amd64.whl.metadata (60 kB)\n",
      "     ---------------------------------------- 0.0/60.6 kB ? eta -:--:--\n",
      "     ---------------------------------------- 60.6/60.6 kB 1.6 MB/s eta 0:00:00\n",
      "Requirement already satisfied: fsspec in c:\\users\\vs225\\anaconda3\\envs\\graphml\\lib\\site-packages (from torch-geometric) (2024.5.0)\n",
      "Requirement already satisfied: jinja2 in c:\\users\\vs225\\anaconda3\\envs\\graphml\\lib\\site-packages (from torch-geometric) (3.1.4)\n",
      "Collecting aiohttp (from torch-geometric)\n",
      "  Using cached aiohttp-3.9.5-cp310-cp310-win_amd64.whl.metadata (7.7 kB)\n",
      "Collecting requests (from torch-geometric)\n",
      "  Downloading requests-2.32.2-py3-none-any.whl.metadata (4.6 kB)\n",
      "Collecting pyparsing (from torch-geometric)\n",
      "  Using cached pyparsing-3.1.2-py3-none-any.whl.metadata (5.1 kB)\n",
      "Collecting scikit-learn (from torch-geometric)\n",
      "  Downloading scikit_learn-1.5.0-cp310-cp310-win_amd64.whl.metadata (11 kB)\n",
      "Requirement already satisfied: psutil>=5.8.0 in c:\\users\\vs225\\anaconda3\\envs\\graphml\\lib\\site-packages (from torch-geometric) (5.9.0)\n",
      "Collecting aiosignal>=1.1.2 (from aiohttp->torch-geometric)\n",
      "  Using cached aiosignal-1.3.1-py3-none-any.whl.metadata (4.0 kB)\n",
      "Collecting attrs>=17.3.0 (from aiohttp->torch-geometric)\n",
      "  Using cached attrs-23.2.0-py3-none-any.whl.metadata (9.5 kB)\n",
      "Collecting frozenlist>=1.1.1 (from aiohttp->torch-geometric)\n",
      "  Using cached frozenlist-1.4.1-cp310-cp310-win_amd64.whl.metadata (12 kB)\n",
      "Collecting multidict<7.0,>=4.5 (from aiohttp->torch-geometric)\n",
      "  Using cached multidict-6.0.5-cp310-cp310-win_amd64.whl.metadata (4.3 kB)\n",
      "Collecting yarl<2.0,>=1.0 (from aiohttp->torch-geometric)\n",
      "  Using cached yarl-1.9.4-cp310-cp310-win_amd64.whl.metadata (32 kB)\n",
      "Collecting async-timeout<5.0,>=4.0 (from aiohttp->torch-geometric)\n",
      "  Using cached async_timeout-4.0.3-py3-none-any.whl.metadata (4.2 kB)\n",
      "Requirement already satisfied: MarkupSafe>=2.0 in c:\\users\\vs225\\anaconda3\\envs\\graphml\\lib\\site-packages (from jinja2->torch-geometric) (2.1.5)\n",
      "Collecting charset-normalizer<4,>=2 (from requests->torch-geometric)\n",
      "  Using cached charset_normalizer-3.3.2-cp310-cp310-win_amd64.whl.metadata (34 kB)\n",
      "Collecting idna<4,>=2.5 (from requests->torch-geometric)\n",
      "  Using cached idna-3.7-py3-none-any.whl.metadata (9.9 kB)\n",
      "Collecting urllib3<3,>=1.21.1 (from requests->torch-geometric)\n",
      "  Using cached urllib3-2.2.1-py3-none-any.whl.metadata (6.4 kB)\n",
      "Collecting certifi>=2017.4.17 (from requests->torch-geometric)\n",
      "  Using cached certifi-2024.2.2-py3-none-any.whl.metadata (2.2 kB)\n",
      "Collecting joblib>=1.2.0 (from scikit-learn->torch-geometric)\n",
      "  Using cached joblib-1.4.2-py3-none-any.whl.metadata (5.4 kB)\n",
      "Collecting threadpoolctl>=3.1.0 (from scikit-learn->torch-geometric)\n",
      "  Using cached threadpoolctl-3.5.0-py3-none-any.whl.metadata (13 kB)\n",
      "Requirement already satisfied: colorama in c:\\users\\vs225\\anaconda3\\envs\\graphml\\lib\\site-packages (from tqdm->torch-geometric) (0.4.6)\n",
      "Downloading torch_geometric-2.5.3-py3-none-any.whl (1.1 MB)\n",
      "   ---------------------------------------- 0.0/1.1 MB ? eta -:--:--\n",
      "   ---- ----------------------------------- 0.1/1.1 MB 3.3 MB/s eta 0:00:01\n",
      "   ----------- ---------------------------- 0.3/1.1 MB 4.1 MB/s eta 0:00:01\n",
      "   ------------------------ --------------- 0.7/1.1 MB 5.2 MB/s eta 0:00:01\n",
      "   ---------------------------------------- 1.1/1.1 MB 6.3 MB/s eta 0:00:00\n",
      "Using cached aiohttp-3.9.5-cp310-cp310-win_amd64.whl (370 kB)\n",
      "Using cached pyparsing-3.1.2-py3-none-any.whl (103 kB)\n",
      "Downloading requests-2.32.2-py3-none-any.whl (63 kB)\n",
      "   ---------------------------------------- 0.0/63.9 kB ? eta -:--:--\n",
      "   ---------------------------------------- 63.9/63.9 kB 3.6 MB/s eta 0:00:00\n",
      "Downloading scikit_learn-1.5.0-cp310-cp310-win_amd64.whl (11.0 MB)\n",
      "   ---------------------------------------- 0.0/11.0 MB ? eta -:--:--\n",
      "   --- ------------------------------------ 1.0/11.0 MB 32.7 MB/s eta 0:00:01\n",
      "   --------- ------------------------------ 2.6/11.0 MB 32.7 MB/s eta 0:00:01\n",
      "   --------------- ------------------------ 4.2/11.0 MB 33.3 MB/s eta 0:00:01\n",
      "   --------------- ------------------------ 4.2/11.0 MB 33.3 MB/s eta 0:00:01\n",
      "   ------------------- -------------------- 5.3/11.0 MB 24.2 MB/s eta 0:00:01\n",
      "   -------------------------------- ------- 8.9/11.0 MB 33.6 MB/s eta 0:00:01\n",
      "   ----------------------------------- ---- 9.6/11.0 MB 32.4 MB/s eta 0:00:01\n",
      "   ---------------------------------------  11.0/11.0 MB 29.7 MB/s eta 0:00:01\n",
      "   ---------------------------------------- 11.0/11.0 MB 27.3 MB/s eta 0:00:00\n",
      "Downloading scipy-1.13.0-cp310-cp310-win_amd64.whl (46.2 MB)\n",
      "   ---------------------------------------- 0.0/46.2 MB ? eta -:--:--\n",
      "    --------------------------------------- 0.9/46.2 MB ? eta -:--:--\n",
      "    --------------------------------------- 0.9/46.2 MB ? eta -:--:--\n",
      "   - -------------------------------------- 1.4/46.2 MB 11.3 MB/s eta 0:00:04\n",
      "   --- ------------------------------------ 4.1/46.2 MB 22.0 MB/s eta 0:00:02\n",
      "   ---- ----------------------------------- 5.5/46.2 MB 27.0 MB/s eta 0:00:02\n",
      "   ---- ----------------------------------- 5.5/46.2 MB 27.0 MB/s eta 0:00:02\n",
      "   ------ --------------------------------- 8.0/46.2 MB 24.2 MB/s eta 0:00:02\n",
      "   -------- ------------------------------- 10.3/46.2 MB 29.7 MB/s eta 0:00:02\n",
      "   -------- ------------------------------- 10.3/46.2 MB 29.7 MB/s eta 0:00:02\n",
      "   ----------- ---------------------------- 13.2/46.2 MB 34.4 MB/s eta 0:00:01\n",
      "   ------------- -------------------------- 16.1/46.2 MB 46.9 MB/s eta 0:00:01\n",
      "   ----------------- ---------------------- 19.7/46.2 MB 43.5 MB/s eta 0:00:01\n",
      "   ----------------- ---------------------- 20.8/46.2 MB 73.1 MB/s eta 0:00:01\n",
      "   ----------------- ---------------------- 20.8/46.2 MB 73.1 MB/s eta 0:00:01\n",
      "   ------------------- -------------------- 22.8/46.2 MB 43.5 MB/s eta 0:00:01\n",
      "   ----------------------- ---------------- 27.6/46.2 MB 50.4 MB/s eta 0:00:01\n",
      "   ------------------------- -------------- 29.6/46.2 MB 43.5 MB/s eta 0:00:01\n",
      "   -------------------------- ------------- 31.1/46.2 MB 65.6 MB/s eta 0:00:01\n",
      "   -------------------------- ------------- 31.1/46.2 MB 65.6 MB/s eta 0:00:01\n",
      "   -------------------------- ------------- 31.1/46.2 MB 65.6 MB/s eta 0:00:01\n",
      "   ---------------------------- ----------- 33.5/46.2 MB 40.9 MB/s eta 0:00:01\n",
      "   -------------------------------- ------- 37.1/46.2 MB 38.6 MB/s eta 0:00:01\n",
      "   -------------------------------- ------- 37.5/46.2 MB 29.8 MB/s eta 0:00:01\n",
      "   ---------------------------------- ----- 39.8/46.2 MB 32.7 MB/s eta 0:00:01\n",
      "   ---------------------------------- ----- 39.8/46.2 MB 32.7 MB/s eta 0:00:01\n",
      "   ---------------------------------- ----- 40.0/46.2 MB 25.2 MB/s eta 0:00:01\n",
      "   ----------------------------------- ---- 40.7/46.2 MB 24.2 MB/s eta 0:00:01\n",
      "   ------------------------------------ --- 41.7/46.2 MB 29.7 MB/s eta 0:00:01\n",
      "   ------------------------------------- -- 43.2/46.2 MB 27.3 MB/s eta 0:00:01\n",
      "   -------------------------------------- - 44.4/46.2 MB 25.1 MB/s eta 0:00:01\n",
      "   ---------------------------------------  46.2/46.2 MB 24.2 MB/s eta 0:00:01\n",
      "   ---------------------------------------  46.2/46.2 MB 24.2 MB/s eta 0:00:01\n",
      "   ---------------------------------------  46.2/46.2 MB 24.2 MB/s eta 0:00:01\n",
      "   ---------------------------------------- 46.2/46.2 MB 18.7 MB/s eta 0:00:00\n",
      "Using cached tqdm-4.66.4-py3-none-any.whl (78 kB)\n",
      "Using cached aiosignal-1.3.1-py3-none-any.whl (7.6 kB)\n",
      "Using cached async_timeout-4.0.3-py3-none-any.whl (5.7 kB)\n",
      "Using cached attrs-23.2.0-py3-none-any.whl (60 kB)\n",
      "Using cached certifi-2024.2.2-py3-none-any.whl (163 kB)\n",
      "Using cached charset_normalizer-3.3.2-cp310-cp310-win_amd64.whl (100 kB)\n",
      "Using cached frozenlist-1.4.1-cp310-cp310-win_amd64.whl (50 kB)\n",
      "Using cached idna-3.7-py3-none-any.whl (66 kB)\n",
      "Using cached joblib-1.4.2-py3-none-any.whl (301 kB)\n",
      "Using cached multidict-6.0.5-cp310-cp310-win_amd64.whl (28 kB)\n",
      "Using cached threadpoolctl-3.5.0-py3-none-any.whl (18 kB)\n",
      "Using cached urllib3-2.2.1-py3-none-any.whl (121 kB)\n",
      "Using cached yarl-1.9.4-cp310-cp310-win_amd64.whl (76 kB)\n",
      "Installing collected packages: urllib3, tqdm, threadpoolctl, scipy, pyparsing, multidict, joblib, idna, frozenlist, charset-normalizer, certifi, attrs, async-timeout, yarl, scikit-learn, requests, aiosignal, aiohttp, torch-geometric\n",
      "Successfully installed aiohttp-3.9.5 aiosignal-1.3.1 async-timeout-4.0.3 attrs-23.2.0 certifi-2024.2.2 charset-normalizer-3.3.2 frozenlist-1.4.1 idna-3.7 joblib-1.4.2 multidict-6.0.5 pyparsing-3.1.2 requests-2.32.2 scikit-learn-1.5.0 scipy-1.13.0 threadpoolctl-3.5.0 torch-geometric-2.5.3 tqdm-4.66.4 urllib3-2.2.1 yarl-1.9.4\n"
     ]
    }
   ],
   "source": [
    "# If something breaks in the notebook it is probably related to a mismatch between the Python version, CUDA or torch\n",
    "import torch\n",
    "pytorch_version = f\"torch-{torch.__version__}.html\"\n",
    "!pip install --no-index torch-scatter -f https://pytorch-geometric.com/whl/$pytorch_version\n",
    "!pip install --no-index torch-sparse -f https://pytorch-geometric.com/whl/$pytorch_version\n",
    "!pip install --no-index torch-cluster -f https://pytorch-geometric.com/whl/$pytorch_version\n",
    "!pip install --no-index torch-spline-conv -f https://pytorch-geometric.com/whl/$pytorch_version\n",
    "!pip install torch-geometric"
   ]
  },
  {
   "cell_type": "code",
   "execution_count": 5,
   "id": "0201ee4d",
   "metadata": {},
   "outputs": [
    {
     "name": "stderr",
     "output_type": "stream",
     "text": [
      "Downloading https://deepchemdata.s3-us-west-1.amazonaws.com/datasets/delaney-processed.csv\n",
      "Processing...\n",
      "Done!\n"
     ]
    },
    {
     "data": {
      "text/plain": [
       "ESOL(1128)"
      ]
     },
     "execution_count": 5,
     "metadata": {},
     "output_type": "execute_result"
    }
   ],
   "source": [
    "import rdkit\n",
    "from torch_geometric.datasets import MoleculeNet\n",
    " \n",
    "# Load the ESOL dataset\n",
    "data = MoleculeNet(root=\".\", name=\"ESOL\")\n",
    "data"
   ]
  },
  {
   "cell_type": "code",
   "execution_count": 6,
   "id": "dc1f6138",
   "metadata": {},
   "outputs": [
    {
     "name": "stdout",
     "output_type": "stream",
     "text": [
      "Dataset type:  <class 'torch_geometric.datasets.molecule_net.MoleculeNet'>\n",
      "Dataset features:  9\n",
      "Dataset target:  734\n",
      "Dataset length:  <bound method InMemoryDataset.len of ESOL(1128)>\n",
      "Dataset sample:  Data(x=[32, 9], edge_index=[2, 68], edge_attr=[68, 3], smiles='OCC3OC(OCC2OC(OC(C#N)c1ccccc1)C(O)C(O)C2O)C(O)C(O)C3O ', y=[1, 1])\n",
      "Sample  nodes:  32\n",
      "Sample  edges:  68\n"
     ]
    },
    {
     "name": "stderr",
     "output_type": "stream",
     "text": [
      "C:\\Users\\vs225\\anaconda3\\envs\\GraphML\\lib\\site-packages\\torch_geometric\\data\\dataset.py:169: UserWarning: Found floating-point labels while calling `dataset.num_classes`. Returning the number of unique elements. Please make sure that this is expected before proceeding.\n",
      "  warnings.warn(\"Found floating-point labels while calling \"\n"
     ]
    }
   ],
   "source": [
    "print(\"Dataset type: \", type(data))\n",
    "print(\"Dataset features: \", data.num_features)\n",
    "print(\"Dataset target: \", data.num_classes)\n",
    "print(\"Dataset length: \", data.len)\n",
    "print(\"Dataset sample: \", data[0])\n",
    "print(\"Sample  nodes: \", data[0].num_nodes)\n",
    "print(\"Sample  edges: \", data[0].num_edges)"
   ]
  },
  {
   "cell_type": "code",
   "execution_count": 7,
   "id": "4695d6e7",
   "metadata": {},
   "outputs": [
    {
     "data": {
      "text/plain": [
       "tensor([[8, 0, 2, 5, 1, 0, 4, 0, 0],\n",
       "        [6, 0, 4, 5, 2, 0, 4, 0, 0],\n",
       "        [6, 0, 4, 5, 1, 0, 4, 0, 1],\n",
       "        [8, 0, 2, 5, 0, 0, 4, 0, 1],\n",
       "        [6, 0, 4, 5, 1, 0, 4, 0, 1],\n",
       "        [8, 0, 2, 5, 0, 0, 4, 0, 0],\n",
       "        [6, 0, 4, 5, 2, 0, 4, 0, 0],\n",
       "        [6, 0, 4, 5, 1, 0, 4, 0, 1],\n",
       "        [8, 0, 2, 5, 0, 0, 4, 0, 1],\n",
       "        [6, 0, 4, 5, 1, 0, 4, 0, 1],\n",
       "        [8, 0, 2, 5, 0, 0, 4, 0, 0],\n",
       "        [6, 0, 4, 5, 1, 0, 4, 0, 0],\n",
       "        [6, 0, 2, 5, 0, 0, 2, 0, 0],\n",
       "        [7, 0, 1, 5, 0, 0, 2, 0, 0],\n",
       "        [6, 0, 3, 5, 0, 0, 3, 1, 1],\n",
       "        [6, 0, 3, 5, 1, 0, 3, 1, 1],\n",
       "        [6, 0, 3, 5, 1, 0, 3, 1, 1],\n",
       "        [6, 0, 3, 5, 1, 0, 3, 1, 1],\n",
       "        [6, 0, 3, 5, 1, 0, 3, 1, 1],\n",
       "        [6, 0, 3, 5, 1, 0, 3, 1, 1],\n",
       "        [6, 0, 4, 5, 1, 0, 4, 0, 1],\n",
       "        [8, 0, 2, 5, 1, 0, 4, 0, 0],\n",
       "        [6, 0, 4, 5, 1, 0, 4, 0, 1],\n",
       "        [8, 0, 2, 5, 1, 0, 4, 0, 0],\n",
       "        [6, 0, 4, 5, 1, 0, 4, 0, 1],\n",
       "        [8, 0, 2, 5, 1, 0, 4, 0, 0],\n",
       "        [6, 0, 4, 5, 1, 0, 4, 0, 1],\n",
       "        [8, 0, 2, 5, 1, 0, 4, 0, 0],\n",
       "        [6, 0, 4, 5, 1, 0, 4, 0, 1],\n",
       "        [8, 0, 2, 5, 1, 0, 4, 0, 0],\n",
       "        [6, 0, 4, 5, 1, 0, 4, 0, 1],\n",
       "        [8, 0, 2, 5, 1, 0, 4, 0, 0]])"
      ]
     },
     "execution_count": 7,
     "metadata": {},
     "output_type": "execute_result"
    }
   ],
   "source": [
    "data[0].x"
   ]
  },
  {
   "cell_type": "code",
   "execution_count": 9,
   "id": "f6163865",
   "metadata": {},
   "outputs": [
    {
     "data": {
      "text/plain": [
       "tensor([[ 0,  1],\n",
       "        [ 1,  0],\n",
       "        [ 1,  2],\n",
       "        [ 2,  1],\n",
       "        [ 2,  3],\n",
       "        [ 2, 30],\n",
       "        [ 3,  2],\n",
       "        [ 3,  4],\n",
       "        [ 4,  3],\n",
       "        [ 4,  5],\n",
       "        [ 4, 26],\n",
       "        [ 5,  4],\n",
       "        [ 5,  6],\n",
       "        [ 6,  5],\n",
       "        [ 6,  7],\n",
       "        [ 7,  6],\n",
       "        [ 7,  8],\n",
       "        [ 7, 24],\n",
       "        [ 8,  7],\n",
       "        [ 8,  9],\n",
       "        [ 9,  8],\n",
       "        [ 9, 10],\n",
       "        [ 9, 20],\n",
       "        [10,  9],\n",
       "        [10, 11],\n",
       "        [11, 10],\n",
       "        [11, 12],\n",
       "        [11, 14],\n",
       "        [12, 11],\n",
       "        [12, 13],\n",
       "        [13, 12],\n",
       "        [14, 11],\n",
       "        [14, 15],\n",
       "        [14, 19],\n",
       "        [15, 14],\n",
       "        [15, 16],\n",
       "        [16, 15],\n",
       "        [16, 17],\n",
       "        [17, 16],\n",
       "        [17, 18],\n",
       "        [18, 17],\n",
       "        [18, 19],\n",
       "        [19, 14],\n",
       "        [19, 18],\n",
       "        [20,  9],\n",
       "        [20, 21],\n",
       "        [20, 22],\n",
       "        [21, 20],\n",
       "        [22, 20],\n",
       "        [22, 23],\n",
       "        [22, 24],\n",
       "        [23, 22],\n",
       "        [24,  7],\n",
       "        [24, 22],\n",
       "        [24, 25],\n",
       "        [25, 24],\n",
       "        [26,  4],\n",
       "        [26, 27],\n",
       "        [26, 28],\n",
       "        [27, 26],\n",
       "        [28, 26],\n",
       "        [28, 29],\n",
       "        [28, 30],\n",
       "        [29, 28],\n",
       "        [30,  2],\n",
       "        [30, 28],\n",
       "        [30, 31],\n",
       "        [31, 30]])"
      ]
     },
     "execution_count": 9,
     "metadata": {},
     "output_type": "execute_result"
    }
   ],
   "source": [
    "data[0].edge_index.t()"
   ]
  },
  {
   "cell_type": "markdown",
   "id": "45dfe8fd",
   "metadata": {},
   "source": [
    "## Implementing the Graph neural network"
   ]
  },
  {
   "cell_type": "code",
   "execution_count": 49,
   "id": "81609060",
   "metadata": {},
   "outputs": [],
   "source": [
    "import torch\n",
    "from torch.nn import Linear, Dropout\n",
    "import torch.nn.functional as F\n",
    "from torch_geometric.nn import GCNConv, TopKPooling, global_mean_pool\n",
    "from torch_geometric.nn import global_mean_pool as gap, global_max_pool as gmp"
   ]
  },
  {
   "cell_type": "code",
   "execution_count": 60,
   "id": "0d67fd72",
   "metadata": {},
   "outputs": [],
   "source": [
    "embedding_size = 64\n",
    "dropout_prob = 0.5\n",
    "class GCN(torch.nn.Module):\n",
    "    def __init__(self):\n",
    "        super(GCN,self).__init__()\n",
    "        torch.manual_seed(42)\n",
    "        \n",
    "        #GCN layers\n",
    "        self.initial_conv = GCNConv(data.num_features,embedding_size)\n",
    "        self.conv1 = GCNConv(embedding_size,embedding_size)\n",
    "        self.conv2 = GCNConv(embedding_size,embedding_size)\n",
    "        self.conv3 = GCNConv(embedding_size,embedding_size)\n",
    "        \n",
    "        self.out = Linear(embedding_size*2,1)\n",
    "        self.dropout = Dropout(dropout_prob)\n",
    "    def forward(self,x,edge_index,batch_index):\n",
    "        hidden = self.initial_conv(x,edge_index)\n",
    "        hidden = F.tanh(hidden)\n",
    "#         hidden = self.dropout(hidden)\n",
    "        hidden = self.conv1(hidden,edge_index)\n",
    "        hidden = F.tanh(hidden)\n",
    "#         hidden = self.dropout(hidden)\n",
    "        hidden = self.conv2(hidden,edge_index)\n",
    "        hidden = F.tanh(hidden)\n",
    "#         hidden = self.dropout(hidden)\n",
    "        hidden = self.conv3(hidden,edge_index)\n",
    "        hidden  = F.tanh(hidden)\n",
    "#         hidden = self.dropout(hidden)\n",
    "        \n",
    "        ## global pooling\n",
    "        hidden = torch.cat([gmp(hidden,batch_index),gap(hidden,batch_index)], dim =1)\n",
    "        \n",
    "        out = self.out(hidden)\n",
    "        return out,hidden"
   ]
  },
  {
   "cell_type": "code",
   "execution_count": 61,
   "id": "0e2b7ac3",
   "metadata": {},
   "outputs": [
    {
     "name": "stdout",
     "output_type": "stream",
     "text": [
      "GCN(\n",
      "  (initial_conv): GCNConv(9, 64)\n",
      "  (conv1): GCNConv(64, 64)\n",
      "  (conv2): GCNConv(64, 64)\n",
      "  (conv3): GCNConv(64, 64)\n",
      "  (out): Linear(in_features=128, out_features=1, bias=True)\n",
      "  (dropout): Dropout(p=0.5, inplace=False)\n",
      ")\n",
      "Number of parameters :  13249\n"
     ]
    }
   ],
   "source": [
    "model = GCN()\n",
    "print(model)\n",
    "print(\"Number of parameters : \",sum(p.numel() for p in model.parameters()))"
   ]
  },
  {
   "cell_type": "code",
   "execution_count": 52,
   "id": "1ce109ec",
   "metadata": {},
   "outputs": [
    {
     "data": {
      "text/plain": [
       "1128"
      ]
     },
     "execution_count": 52,
     "metadata": {},
     "output_type": "execute_result"
    }
   ],
   "source": [
    "len(data)"
   ]
  },
  {
   "cell_type": "code",
   "execution_count": 62,
   "id": "ff0a454d",
   "metadata": {},
   "outputs": [],
   "source": [
    "from torch_geometric.data import DataLoader\n",
    "import warnings\n",
    "warnings.filterwarnings(\"ignore\")\n",
    "\n",
    "## loss function\n",
    "loss_fn = torch.nn.MSELoss()\n",
    "optimizer = torch.optim.Adam(model.parameters(),lr = 0.0004, weight_decay = 0.00001)\n",
    "\n",
    "data_size = len(data)\n",
    "NUM_GRAPHS_PER_BATCH = 64\n",
    "loader = DataLoader(data[:int(data_size*0.8)],\n",
    "                   batch_size = NUM_GRAPHS_PER_BATCH,shuffle = True)\n",
    "test_loader = DataLoader(data[int(data_size*0.8):],\n",
    "                   batch_size = NUM_GRAPHS_PER_BATCH,shuffle = True)"
   ]
  },
  {
   "cell_type": "code",
   "execution_count": 63,
   "id": "2ab0ff3a",
   "metadata": {},
   "outputs": [
    {
     "name": "stdout",
     "output_type": "stream",
     "text": [
      "Start training...\n",
      "Epoch 0 | Train Loss 16.448097229003906\n",
      "Epoch 100 | Train Loss 0.9536308646202087\n",
      "Epoch 200 | Train Loss 1.5495147705078125\n",
      "Epoch 300 | Train Loss 0.4601414203643799\n",
      "Epoch 400 | Train Loss 0.33313700556755066\n",
      "Epoch 500 | Train Loss 0.41319048404693604\n",
      "Epoch 600 | Train Loss 0.17450636625289917\n",
      "Epoch 700 | Train Loss 0.5442329049110413\n",
      "Epoch 800 | Train Loss 0.4271745979785919\n",
      "Epoch 900 | Train Loss 1.0418754816055298\n",
      "Epoch 1000 | Train Loss 0.17005501687526703\n",
      "Epoch 1100 | Train Loss 0.10821559280157089\n",
      "Epoch 1200 | Train Loss 0.2271357923746109\n",
      "Epoch 1300 | Train Loss 0.14034922420978546\n",
      "Epoch 1400 | Train Loss 0.14870993793010712\n",
      "Epoch 1500 | Train Loss 0.1521938443183899\n",
      "Epoch 1600 | Train Loss 0.07451633363962173\n",
      "Epoch 1700 | Train Loss 0.08402901142835617\n",
      "Epoch 1800 | Train Loss 0.10044676810503006\n",
      "Epoch 1900 | Train Loss 0.5810531973838806\n"
     ]
    }
   ],
   "source": [
    "def train(data):\n",
    "    for batch in loader:\n",
    "        optimizer.zero_grad()\n",
    "        pred,embedding = model(batch.x.float(),batch.edge_index,batch.batch)\n",
    "        loss = loss_fn(pred,batch.y)\n",
    "        loss.backward()\n",
    "        optimizer.step()\n",
    "    return loss,embedding\n",
    "\n",
    "print(\"Start training...\")\n",
    "losses = []\n",
    "for epoch in range(2000):\n",
    "    loss,h = train(data)\n",
    "    losses.append(loss)\n",
    "    if epoch%100 == 0:\n",
    "        print(f\"Epoch { epoch} | Train Loss {loss}\")"
   ]
  },
  {
   "cell_type": "code",
   "execution_count": 64,
   "id": "df241e8c",
   "metadata": {},
   "outputs": [],
   "source": [
    "losses_float = [float(loss.detach().numpy()) for loss in losses]"
   ]
  },
  {
   "cell_type": "code",
   "execution_count": 65,
   "id": "7f71945c",
   "metadata": {},
   "outputs": [
    {
     "data": {
      "image/png": "[encoded data removed]",
      "text/plain": [
       "<Figure size 640x480 with 1 Axes>"
      ]
     },
     "metadata": {},
     "output_type": "display_data"
    }
   ],
   "source": [
    "import matplotlib.pyplot as plt\n",
    "plt.plot(range(len(losses)),losses_float)\n",
    "plt.yscale('log')"
   ]
  },
  {
   "cell_type": "code",
   "execution_count": 66,
   "id": "f8cbdce9",
   "metadata": {},
   "outputs": [],
   "source": [
    "## testing\n",
    "from sklearn.metrics import r2_score\n",
    "def test(data):\n",
    "    acc = []\n",
    "    for test_batch in data:\n",
    "        with torch.no_grad():\n",
    "            pred,embed = model(test_batch.x.float(),test_batch.edge_index,test_batch.batch)\n",
    "            acc.append(r2_score(pred.detach().numpy(),test_batch.y.numpy()))\n",
    "    return acc        "
   ]
  },
  {
   "cell_type": "code",
   "execution_count": 67,
   "id": "21aa050a",
   "metadata": {},
   "outputs": [],
   "source": [
    "result = test(test_loader)"
   ]
  },
  {
   "cell_type": "code",
   "execution_count": 68,
   "id": "5136ccc0",
   "metadata": {},
   "outputs": [
    {
     "data": {
      "text/plain": [
       "0.8017906695604324"
      ]
     },
     "execution_count": 68,
     "metadata": {},
     "output_type": "execute_result"
    }
   ],
   "source": [
    "sum(result)/len(result)"
   ]
  },
  {
   "cell_type": "code",
   "execution_count": null,
   "id": "e99a6826",
   "metadata": {},
   "outputs": [],
   "source": []
  }
 ],
 "metadata": {
  "kernelspec": {
   "display_name": "Python (GraphML)",
   "language": "python",
   "name": "graphml"
  },
  "language_info": {
   "codemirror_mode": {
    "name": "ipython",
    "version": 3
   },
   "file_extension": ".py",
   "mimetype": "text/x-python",
   "name": "python",
   "nbconvert_exporter": "python",
   "pygments_lexer": "ipython3",
   "version": "3.10.14"
  }
 },
 "nbformat": 4,
 "nbformat_minor": 5
}
